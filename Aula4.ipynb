{
 "cells": [
  {
   "cell_type": "markdown",
   "metadata": {},
   "source": [
    "Funções Personalizadas"
   ]
  },
  {
   "cell_type": "code",
   "execution_count": 2,
   "metadata": {},
   "outputs": [
    {
     "data": {
      "text/plain": [
       "17"
      ]
     },
     "execution_count": 2,
     "metadata": {},
     "output_type": "execute_result"
    }
   ],
   "source": [
    "#Criando funções\n",
    "#def nome(argumentos): função\n",
    "def soma(elemento1, elemento2):\n",
    "    resultado=elemento1+elemento2\n",
    "    return resultado\n",
    "numero1=12\n",
    "numero2=5\n",
    "resposta=soma(numero1, numero2)\n",
    "resposta"
   ]
  },
  {
   "cell_type": "code",
   "execution_count": 4,
   "metadata": {},
   "outputs": [
    {
     "data": {
      "text/plain": [
       "8"
      ]
     },
     "execution_count": 4,
     "metadata": {},
     "output_type": "execute_result"
    }
   ],
   "source": [
    "#Fixando parâmetros de funções\n",
    "def potencia(x,y=1):\n",
    "    resultado=x**y\n",
    "    return resultado\n",
    "\n",
    "potencia(2,3)\n"
   ]
  },
  {
   "cell_type": "code",
   "execution_count": 22,
   "metadata": {},
   "outputs": [
    {
     "name": "stdout",
     "output_type": "stream",
     "text": [
      "print A: 200\n",
      "print B 200\n",
      "print C: 10\n",
      "print D: 3\n",
      "print E: 200\n"
     ]
    }
   ],
   "source": [
    "x = 200\n",
    "print('print A:', x)\n",
    "\n",
    "def mostraX(x):\n",
    "    print('print C:', x)\n",
    "    x = 3\n",
    "    print('print D:', x)\n",
    "print('print B', x)\n",
    "mostraX(10)\n",
    "print('print E:', x)"
   ]
  },
  {
   "cell_type": "code",
   "execution_count": 5,
   "metadata": {},
   "outputs": [
    {
     "data": {
      "text/plain": [
       "27"
      ]
     },
     "execution_count": 5,
     "metadata": {},
     "output_type": "execute_result"
    }
   ],
   "source": [
    "#função anônima lambda\n",
    "#lambda argumentos: função simples\n",
    "#a diferença do lambda é que é uma função sintetixada \n",
    "\n",
    "cubo=lambda x:x**3 \n",
    "cubo(3)"
   ]
  },
  {
   "cell_type": "code",
   "execution_count": 7,
   "metadata": {},
   "outputs": [
    {
     "name": "stdout",
     "output_type": "stream",
     "text": [
      "[1, 8, 27, 64]\n"
     ]
    }
   ],
   "source": [
    "#função integrada MAP\n",
    "#map (função pronta)\n",
    "\n",
    "x=map(cubo,(1,2,3,4))\n",
    "print(list(x))\n"
   ]
  },
  {
   "cell_type": "markdown",
   "metadata": {},
   "source": [
    "Date/Time"
   ]
  },
  {
   "cell_type": "code",
   "execution_count": 8,
   "metadata": {},
   "outputs": [],
   "source": [
    "#importando de subibliotecas nativas\n",
    "#date\n",
    "from datetime import date\n",
    "#datetime\n",
    "from datetime import datetime as dt"
   ]
  },
  {
   "cell_type": "code",
   "execution_count": 11,
   "metadata": {},
   "outputs": [
    {
     "data": {
      "text/plain": [
       "datetime.datetime(2024, 7, 17, 21, 0, 29, 472650)"
      ]
     },
     "execution_count": 11,
     "metadata": {},
     "output_type": "execute_result"
    }
   ],
   "source": [
    "#today \n",
    "date.today()\n",
    "dt.today()\n",
    "#now\n",
    "dt.now()\n"
   ]
  },
  {
   "cell_type": "code",
   "execution_count": null,
   "metadata": {},
   "outputs": [],
   "source": [
    "#função: nome da função e os elementos\n",
    "#método: tem o objeto e depois os elementos "
   ]
  },
  {
   "cell_type": "code",
   "execution_count": 16,
   "metadata": {},
   "outputs": [],
   "source": [
    "#formatação / padronizar a data em string\n",
    "#strftime - out\n",
    "today=dt.today()\n",
    "today.strftime('%d/%m/%Y, %H:%M')\n",
    "#strftime - in\n",
    "data_exemplo=dt.strptime('20/07/2024','%d/%m/%Y')"
   ]
  },
  {
   "cell_type": "code",
   "execution_count": 21,
   "metadata": {},
   "outputs": [
    {
     "name": "stdout",
     "output_type": "stream",
     "text": [
      "2024-07-20 00:00:00\n",
      "2024-07-19 00:00:00\n"
     ]
    }
   ],
   "source": [
    "#manipulação\n",
    "#acesso aos componentes de data\n",
    "data_exemplo.year\n",
    "#timedelta\n",
    "from datetime import timedelta\n",
    "print(data_exemplo)\n",
    "print(data_exemplo-timedelta(days=1))"
   ]
  },
  {
   "cell_type": "code",
   "execution_count": 1,
   "metadata": {},
   "outputs": [
    {
     "data": {
      "text/plain": [
       "True"
      ]
     },
     "execution_count": 1,
     "metadata": {},
     "output_type": "execute_result"
    }
   ],
   "source": [
    "#Exercício 01\n",
    "eh_multiplo_dez=lambda n: (n%10) == 0 \n",
    "eh_multiplo_dez(20)"
   ]
  },
  {
   "cell_type": "code",
   "execution_count": 2,
   "metadata": {},
   "outputs": [],
   "source": [
    "def eh_multiplo_dez (n):\n",
    "    return (n%10) == 0"
   ]
  },
  {
   "cell_type": "code",
   "execution_count": 5,
   "metadata": {},
   "outputs": [],
   "source": [
    "#Exercício 02\n",
    "def fatorial (n):\n",
    "    produto=1\n",
    "    for i in range(1, n+1):\n",
    "        produto*=i\n",
    "    if n==0:produto=1\n",
    "    print(produto)\n"
   ]
  },
  {
   "cell_type": "code",
   "execution_count": 7,
   "metadata": {},
   "outputs": [
    {
     "name": "stdout",
     "output_type": "stream",
     "text": [
      "2432902008176640000\n"
     ]
    }
   ],
   "source": [
    "numero=int(input('Digite um número inteiro:'))\n",
    "fato=fatorial(numero)"
   ]
  },
  {
   "cell_type": "code",
   "execution_count": 19,
   "metadata": {},
   "outputs": [],
   "source": [
    "#Exercício 04\n",
    "def primeiro_nome(nome_completo):\n",
    "    nome_1=nome_completo.split(' ')[0]\n",
    "    return nome_1\n"
   ]
  },
  {
   "cell_type": "code",
   "execution_count": 20,
   "metadata": {},
   "outputs": [
    {
     "data": {
      "text/plain": [
       "'Isabela'"
      ]
     },
     "execution_count": 20,
     "metadata": {},
     "output_type": "execute_result"
    }
   ],
   "source": [
    "primeiro_nome('Isabela Ramos')"
   ]
  },
  {
   "cell_type": "code",
   "execution_count": 21,
   "metadata": {},
   "outputs": [
    {
     "data": {
      "text/plain": [
       "['João', 'Maria', 'Ana', 'Ana']"
      ]
     },
     "execution_count": 21,
     "metadata": {},
     "output_type": "execute_result"
    }
   ],
   "source": [
    "nomes=['João Carlos', 'Maria Eduarda', 'Ana Rute', 'Ana Clara']\n",
    "list(map(primeiro_nome, nomes))"
   ]
  },
  {
   "cell_type": "code",
   "execution_count": 18,
   "metadata": {},
   "outputs": [],
   "source": [
    "#Exercício 05\n",
    "days = ['Monday', 'Tuesday', 'Wednesday', 'Thursday', 'Friday', 'Saturday']"
   ]
  },
  {
   "cell_type": "code",
   "execution_count": 22,
   "metadata": {},
   "outputs": [],
   "source": [
    "def dia_semana (data_br):\n",
    "    from datetime import datetime as dt\n",
    "    days = ['Monday', 'Tuesday', 'Wednesday', 'Thursday', 'Friday', 'Saturday']\n",
    "    data_py=dt.strptime(data_br, '%d/%m/%Y')\n",
    "    dia_semana=data_py.weekday()\n",
    "    return days[dia_semana]"
   ]
  },
  {
   "cell_type": "code",
   "execution_count": 23,
   "metadata": {},
   "outputs": [
    {
     "data": {
      "text/plain": [
       "'Thursday'"
      ]
     },
     "execution_count": 23,
     "metadata": {},
     "output_type": "execute_result"
    }
   ],
   "source": [
    "data_inicial='02/05/1996'\n",
    "dia_semana(data_inicial)"
   ]
  },
  {
   "cell_type": "code",
   "execution_count": 17,
   "metadata": {},
   "outputs": [
    {
     "data": {
      "text/plain": [
       "1"
      ]
     },
     "execution_count": 17,
     "metadata": {},
     "output_type": "execute_result"
    }
   ],
   "source": [
    "from datetime import datetime as dt\n",
    "data_inicial='25/06/2024'\n",
    "data_py=dt.strptime(data_inicial, '%d/%m/%Y')\n",
    "data_py\n",
    "dia_semana=data_py.weekday()\n",
    "days[dia_semana]"
   ]
  }
 ],
 "metadata": {
  "kernelspec": {
   "display_name": "Python 3",
   "language": "python",
   "name": "python3"
  },
  "language_info": {
   "codemirror_mode": {
    "name": "ipython",
    "version": 3
   },
   "file_extension": ".py",
   "mimetype": "text/x-python",
   "name": "python",
   "nbconvert_exporter": "python",
   "pygments_lexer": "ipython3",
   "version": "3.11.9"
  }
 },
 "nbformat": 4,
 "nbformat_minor": 2
}
