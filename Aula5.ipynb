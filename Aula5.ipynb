{
 "cells": [
  {
   "cell_type": "code",
   "execution_count": 8,
   "metadata": {},
   "outputs": [],
   "source": [
    "#Classe e Objeto\n",
    "class Animal:\n",
    "    def __init__(self, nome, idade, raca_catalago):\n",
    "        self.nome = nome\n",
    "        self.idade = idade\n",
    "        self.raca = raca_catalago  \n",
    "    \n",
    "    def respirar(self):\n",
    "        print(f'{self.nome} está respirando')\n",
    "\n",
    "            "
   ]
  },
  {
   "cell_type": "code",
   "execution_count": 7,
   "metadata": {},
   "outputs": [],
   "source": [
    "cachorro = Animal('Frodo', 4, 'Sptiz')"
   ]
  },
  {
   "cell_type": "code",
   "execution_count": 6,
   "metadata": {},
   "outputs": [],
   "source": [
    "class Pessoa: \n",
    "    def __init__(self, nome, idade, sexo):\n",
    "        self.nome=nome\n",
    "        self.idade=idade\n",
    "        self.sexo=sexo\n",
    "\n",
    "eu=Pessoa('Isabela', 28, 'Feminino')\n"
   ]
  },
  {
   "cell_type": "code",
   "execution_count": 7,
   "metadata": {},
   "outputs": [
    {
     "data": {
      "text/plain": [
       "28"
      ]
     },
     "execution_count": 7,
     "metadata": {},
     "output_type": "execute_result"
    }
   ],
   "source": [
    "#Posso pegar as inf que estão na função\n",
    "eu.idade"
   ]
  },
  {
   "cell_type": "code",
   "execution_count": 8,
   "metadata": {},
   "outputs": [],
   "source": [
    "#Equação de primeiro grau\n",
    "class Equacao_primeiro_grau:\n",
    "    def __init__(self, a, b):\n",
    "        self.inclinação=a\n",
    "        self.intercepto=b\n",
    "        self.x=-b/a\n",
    "    def raiz (self):\n",
    "        print(f'A raiz da equação ({self.inclinação})*x+({self.intercepto}) é {self.x}')"
   ]
  },
  {
   "cell_type": "code",
   "execution_count": 9,
   "metadata": {},
   "outputs": [],
   "source": [
    "equacao=Equacao_primeiro_grau(2,3)"
   ]
  },
  {
   "cell_type": "code",
   "execution_count": 10,
   "metadata": {},
   "outputs": [
    {
     "name": "stdout",
     "output_type": "stream",
     "text": [
      "A raiz da equação (2)*x+(3) é -1.5\n"
     ]
    }
   ],
   "source": [
    "equacao.raiz()"
   ]
  },
  {
   "cell_type": "code",
   "execution_count": 11,
   "metadata": {},
   "outputs": [],
   "source": [
    "#Exercicio 01\n",
    "class Retangulo:\n",
    "    def __init__(self, base, altura):\n",
    "        self.base = base\n",
    "        self.altura = altura\n",
    "    def area (self):\n",
    "        return self.base*self.altura   \n",
    "    def perimetro(self):\n",
    "        return 2*self.altura + 2*self.base"
   ]
  },
  {
   "cell_type": "code",
   "execution_count": 12,
   "metadata": {},
   "outputs": [
    {
     "name": "stdout",
     "output_type": "stream",
     "text": [
      "2\n",
      "3\n",
      "6\n",
      "10\n"
     ]
    }
   ],
   "source": [
    "exemplo=Retangulo(2,3)\n",
    "print(exemplo.base)\n",
    "print(exemplo.altura)\n",
    "print(exemplo.area())\n",
    "print(exemplo.perimetro())"
   ]
  },
  {
   "cell_type": "code",
   "execution_count": 13,
   "metadata": {},
   "outputs": [
    {
     "name": "stdout",
     "output_type": "stream",
     "text": [
      "5\n",
      "3\n",
      "15\n",
      "16\n"
     ]
    }
   ],
   "source": [
    "#Exercicio 02\n",
    "from geometria import Retangulo\n",
    "\n",
    "exemplo2=Retangulo(5,3)\n",
    "print(exemplo2.base)\n",
    "print(exemplo2.altura)\n",
    "print(exemplo2.area())\n",
    "print(exemplo2.perimetro())"
   ]
  },
  {
   "cell_type": "code",
   "execution_count": 14,
   "metadata": {},
   "outputs": [],
   "source": [
    "#Exercicio 03\n",
    "class Conta:\n",
    "    def __init__(self, saldo, titular):\n",
    "        self.saldo = saldo\n",
    "        self.titular = titular\n",
    "    def depositar (self, deposito):\n",
    "       self.saldo += deposito \n",
    "    def sacar (self, saque):\n",
    "        self.saldo -= saque"
   ]
  },
  {
   "cell_type": "code",
   "execution_count": 15,
   "metadata": {},
   "outputs": [
    {
     "name": "stdout",
     "output_type": "stream",
     "text": [
      "1000\n"
     ]
    }
   ],
   "source": [
    "banco=Conta(1000, 'Isabela')\n",
    "print(banco.saldo)"
   ]
  },
  {
   "cell_type": "code",
   "execution_count": 16,
   "metadata": {},
   "outputs": [
    {
     "name": "stdout",
     "output_type": "stream",
     "text": [
      "1100\n"
     ]
    }
   ],
   "source": [
    "banco.depositar(100)\n",
    "print(banco.saldo)"
   ]
  },
  {
   "cell_type": "code",
   "execution_count": 17,
   "metadata": {},
   "outputs": [
    {
     "name": "stdout",
     "output_type": "stream",
     "text": [
      "850\n"
     ]
    }
   ],
   "source": [
    "banco.sacar(250)\n",
    "print(banco.saldo)"
   ]
  },
  {
   "cell_type": "code",
   "execution_count": 1,
   "metadata": {},
   "outputs": [
    {
     "ename": "ImportError",
     "evalue": "cannot import name 'utils' from 'util' (unknown location)",
     "output_type": "error",
     "traceback": [
      "\u001b[1;31m---------------------------------------------------------------------------\u001b[0m",
      "\u001b[1;31mImportError\u001b[0m                               Traceback (most recent call last)",
      "Cell \u001b[1;32mIn[1], line 1\u001b[0m\n\u001b[1;32m----> 1\u001b[0m \u001b[38;5;28;01mfrom\u001b[39;00m \u001b[38;5;21;01mutil\u001b[39;00m \u001b[38;5;28;01mimport\u001b[39;00m utils \n",
      "\u001b[1;31mImportError\u001b[0m: cannot import name 'utils' from 'util' (unknown location)"
     ]
    }
   ],
   "source": [
    "from util import utils "
   ]
  }
 ],
 "metadata": {
  "kernelspec": {
   "display_name": "Python 3",
   "language": "python",
   "name": "python3"
  },
  "language_info": {
   "codemirror_mode": {
    "name": "ipython",
    "version": 3
   },
   "file_extension": ".py",
   "mimetype": "text/x-python",
   "name": "python",
   "nbconvert_exporter": "python",
   "pygments_lexer": "ipython3",
   "version": "3.11.9"
  }
 },
 "nbformat": 4,
 "nbformat_minor": 2
}
