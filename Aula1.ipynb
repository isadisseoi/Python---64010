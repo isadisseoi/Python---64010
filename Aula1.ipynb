{
 "cells": [
  {
   "cell_type": "code",
   "execution_count": 1,
   "metadata": {},
   "outputs": [
    {
     "name": "stdout",
     "output_type": "stream",
     "text": [
      "Hello World\n"
     ]
    }
   ],
   "source": [
    "print(\"Hello World\")"
   ]
  },
  {
   "cell_type": "code",
   "execution_count": 3,
   "metadata": {},
   "outputs": [
    {
     "name": "stdout",
     "output_type": "stream",
     "text": [
      "Eu tenho 28 anos\n"
     ]
    }
   ],
   "source": [
    "idade=input(\"Boa noite, Isabela. Qual sua idade?\")\n",
    "print(f'Eu tenho {idade} anos')"
   ]
  },
  {
   "cell_type": "code",
   "execution_count": 4,
   "metadata": {},
   "outputs": [
    {
     "name": "stdout",
     "output_type": "stream",
     "text": [
      "False\n"
     ]
    }
   ],
   "source": [
    "# Maria tem idade de 31 anos, Maria pode fazer parte do departamento da juventude?\n",
    "idade_maria = 31 \n",
    " \n",
    "print(idade_maria > 8 and idade_maria <= 30)"
   ]
  },
  {
   "cell_type": "code",
   "execution_count": 5,
   "metadata": {},
   "outputs": [
    {
     "name": "stdout",
     "output_type": "stream",
     "text": [
      "True\n"
     ]
    }
   ],
   "source": [
    "# João tem 22 anos. João pode fazer parte do departamento?\n",
    "idade_joao = 22\n",
    "\n",
    "print(idade_joao > 8 and idade_joao <=30)"
   ]
  },
  {
   "cell_type": "code",
   "execution_count": 6,
   "metadata": {},
   "outputs": [
    {
     "name": "stdout",
     "output_type": "stream",
     "text": [
      "True\n"
     ]
    }
   ],
   "source": [
    "#Pelo menos algum pode fazer parte do departamento?\n",
    "joao_pode = idade_joao > 8 and idade_joao <= 30\n",
    "maria_pode = idade_maria > 8 and idade_maria <= 30\n",
    "\n",
    "print (joao_pode or maria_pode)"
   ]
  },
  {
   "cell_type": "code",
   "execution_count": 2,
   "metadata": {},
   "outputs": [
    {
     "name": "stdout",
     "output_type": "stream",
     "text": [
      "True\n"
     ]
    },
    {
     "ename": "",
     "evalue": "",
     "output_type": "error",
     "traceback": [
      "\u001b[1;31mThe Kernel crashed while executing code in the current cell or a previous cell. \n",
      "\u001b[1;31mPlease review the code in the cell(s) to identify a possible cause of the failure. \n",
      "\u001b[1;31mClick <a href='https://aka.ms/vscodeJupyterKernelCrash'>here</a> for more info. \n",
      "\u001b[1;31mView Jupyter <a href='command:jupyter.viewOutput'>log</a> for further details."
     ]
    }
   ],
   "source": [
    "#EXERCICIO: Goku viu Frisa atacando seu amigo kuririn. Goku sente uma emoção muito forte e está enfrentando um adversário poderoso. Goku se transforma em super sayajin?\n",
    "goku_emocao = True\n",
    "goku_determinado = True\n",
    "situacao_perigo = True\n",
    "adv_poderoso = True\n",
    "\n",
    "goku_super_sayajin = (goku_emocao or goku_determinado) and (situacao_perigo or adv_poderoso)\n",
    "\n",
    "print(goku_super_sayajin)"
   ]
  },
  {
   "cell_type": "code",
   "execution_count": 8,
   "metadata": {},
   "outputs": [
    {
     "name": "stdout",
     "output_type": "stream",
     "text": [
      "[1, 2, 3, 4, 5, 6]\n",
      "[6, 5, 4, 3, 2, 1]\n"
     ]
    }
   ],
   "source": [
    "#LISTA\n",
    "lista = [5, 2, 6, 3, 1, 4]\n",
    "lista.sort()\n",
    "print(lista)\n",
    "lista.sort(reverse=True)\n",
    "print(lista)"
   ]
  },
  {
   "cell_type": "code",
   "execution_count": 11,
   "metadata": {},
   "outputs": [
    {
     "data": {
      "text/plain": [
       "'joao da silva'"
      ]
     },
     "execution_count": 11,
     "metadata": {},
     "output_type": "execute_result"
    }
   ],
   "source": [
    "#DICIONÁRIO\n",
    "joao = {'nome': 'joao silva', 'idade': '20'}\n",
    "joao['nome'] = 'joao da silva'\n",
    "joao ['nome']"
   ]
  },
  {
   "cell_type": "code",
   "execution_count": 14,
   "metadata": {},
   "outputs": [
    {
     "data": {
      "text/plain": [
       "['banana', 'laranja', 'abacaxi', 'maçã', 'manga', 'uva']"
      ]
     },
     "execution_count": 14,
     "metadata": {},
     "output_type": "execute_result"
    }
   ],
   "source": [
    "frutas = [\"banana\", \"maçã\", \"abacaxi\", \"laranja\", \"manga\"]\n",
    "frutas.append (input('Digite o nome de uma fruta:'))\n",
    "list(set(frutas))\n",
    "\n",
    "\n"
   ]
  }
 ],
 "metadata": {
  "kernelspec": {
   "display_name": "Python 3",
   "language": "python",
   "name": "python3"
  },
  "language_info": {
   "codemirror_mode": {
    "name": "ipython",
    "version": 3
   },
   "file_extension": ".py",
   "mimetype": "text/x-python",
   "name": "python",
   "nbconvert_exporter": "python",
   "pygments_lexer": "ipython3",
   "version": "3.11.9"
  }
 },
 "nbformat": 4,
 "nbformat_minor": 2
}
