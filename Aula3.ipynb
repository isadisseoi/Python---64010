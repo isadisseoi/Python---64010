{
 "cells": [
  {
   "cell_type": "code",
   "execution_count": 1,
   "metadata": {},
   "outputs": [
    {
     "name": "stdout",
     "output_type": "stream",
     "text": [
      "O primeiro valor é maior que o segundo\n"
     ]
    }
   ],
   "source": [
    "#IF\n",
    "\n",
    "if 3>2: print('O primeiro valor é maior que o segundo')"
   ]
  },
  {
   "cell_type": "code",
   "execution_count": 1,
   "metadata": {},
   "outputs": [],
   "source": [
    "temperatura = 30\n",
    "\n",
    "if temperatura > 30: print ('Eu vou a praia')"
   ]
  },
  {
   "cell_type": "code",
   "execution_count": 1,
   "metadata": {},
   "outputs": [
    {
     "name": "stdout",
     "output_type": "stream",
     "text": [
      "João compra a goiaba\n"
     ]
    }
   ],
   "source": [
    "# Se joão tiver 5 reais, ele consegue comprar uam goiaba\n",
    "x = 5 \n",
    "\n",
    "if x == 5:\n",
    "    print('João compra a goiaba')\n"
   ]
  },
  {
   "cell_type": "code",
   "execution_count": 7,
   "metadata": {},
   "outputs": [
    {
     "name": "stdout",
     "output_type": "stream",
     "text": [
      "Sem acesso a montanha russa\n"
     ]
    }
   ],
   "source": [
    "# A montanha russa no parque buen vivir é liberada só aos sábados e domingos, Para poder ir é necessário que a pessoa tenha mais de 12 anos, tenha altura maior que 1,5. Ana foi ao sbábado no parque, ela tem 15 anos e tem 1,60m. Ana poderá usar a montanha russa?\n",
    "\n",
    "idade = 10\n",
    "altura = 1.6\n",
    "dia = 'sabado'\n",
    "\n",
    "if (idade > 12) and (altura > 1.5) and (dia == 'sabado' or dia == 'domingo'):\n",
    "    print ('Montanha Russa liberada')\n",
    "\n",
    "else:\n",
    "    print ('Sem acesso a montanha russa')"
   ]
  },
  {
   "cell_type": "code",
   "execution_count": 8,
   "metadata": {},
   "outputs": [],
   "source": [
    "idade = int(input ('Qual a sua idade?'))\n",
    "altura = float(input('Qual a sua altura?'))\n",
    "dia = 'domingo'\n",
    "\n",
    "#repetir a condição acima"
   ]
  },
  {
   "cell_type": "code",
   "execution_count": null,
   "metadata": {},
   "outputs": [],
   "source": [
    "ano = int(input(\"Qual o ano do seu nascimento?\"))\n",
    "\n",
    "if (ano > 1945) and (ano <= 1964):\n",
    "    geracao = \"Baby Boomers\"\n",
    "elif (ano > 1964) and (ano <= 1984):\n",
    "    geracao= \"X\"\n",
    "elif (ano > 1984) and (ano <= 1999):\n",
    "    geracao = \"\""
   ]
  },
  {
   "cell_type": "code",
   "execution_count": 15,
   "metadata": {},
   "outputs": [],
   "source": [
    "x = 5\n",
    "y = 3\n",
    "if x>2*y:\n",
    "    x=3\n",
    "else:\n",
    "    x = 2\n",
    "    x = x*3\n",
    "if x/2 < y+2:\n",
    "    x = x + y"
   ]
  },
  {
   "cell_type": "code",
   "execution_count": 14,
   "metadata": {},
   "outputs": [
    {
     "name": "stdout",
     "output_type": "stream",
     "text": [
      "that is the question\n"
     ]
    }
   ],
   "source": [
    "if x or not x:\n",
    "    print('that is the question')"
   ]
  },
  {
   "cell_type": "code",
   "execution_count": 17,
   "metadata": {},
   "outputs": [
    {
     "name": "stdout",
     "output_type": "stream",
     "text": [
      "O número é impar\n"
     ]
    }
   ],
   "source": [
    "numero = int(input(\"Digite um número\"))\n",
    "\n",
    "if numero %2 == 0:\n",
    "    print ('O número é par')\n",
    "    \n",
    "else:\n",
    "    print ('O número é impar')"
   ]
  },
  {
   "cell_type": "code",
   "execution_count": 3,
   "metadata": {},
   "outputs": [
    {
     "name": "stdout",
     "output_type": "stream",
     "text": [
      "Eu vou ficar em casa\n"
     ]
    }
   ],
   "source": [
    "#ELSE\n",
    "temperatura = 30 \n",
    "\n",
    "if temperatura > 30: \n",
    "    print('Eu vou a praia')\n",
    "else: print('Eu vou ficar em casa')\n"
   ]
  },
  {
   "cell_type": "code",
   "execution_count": 6,
   "metadata": {},
   "outputs": [
    {
     "name": "stdout",
     "output_type": "stream",
     "text": [
      "Eu vou a praia\n"
     ]
    }
   ],
   "source": [
    "#elif\n",
    "temperatura = 31 \n",
    "\n",
    "if temperatura > 30: \n",
    "    print('Eu vou a praia')\n",
    "elif temperatura > 20:\n",
    "    print('Eu vou ao shopping')\n",
    "else: print('Eu vou ficar em casa')\n",
    "\n"
   ]
  },
  {
   "cell_type": "code",
   "execution_count": 8,
   "metadata": {},
   "outputs": [
    {
     "name": "stdout",
     "output_type": "stream",
     "text": [
      "Eu vou ficar em casa\n"
     ]
    }
   ],
   "source": [
    "#if-if\n",
    "salario = False\n",
    "temperatura = 20 \n",
    "\n",
    "if temperatura > 30: \n",
    "    print('Eu vou a praia')\n",
    "elif temperatura > 20:\n",
    "    print('Eu vou ao shopping')\n",
    "else: \n",
    "    if salario==True: \n",
    "        print('Vou ao cinema')\n",
    "    else: \n",
    "        print('Eu vou ficar em casa')"
   ]
  },
  {
   "cell_type": "code",
   "execution_count": 10,
   "metadata": {},
   "outputs": [
    {
     "name": "stdout",
     "output_type": "stream",
     "text": [
      "Solicitar documentação adicional\n"
     ]
    }
   ],
   "source": [
    "#exemplo real\n",
    "score=0.8\n",
    "\n",
    "if score >= 0.85: \n",
    "    print ('Crédito Liberado')\n",
    "elif (score >= 0.7) & (score < 0.85):\n",
    "    print('Solicitar documentação adicional')\n",
    "else: \n",
    "    print ('Crédito negado')"
   ]
  },
  {
   "cell_type": "markdown",
   "metadata": {},
   "source": [
    "Estrutura de repetição "
   ]
  },
  {
   "cell_type": "code",
   "execution_count": 19,
   "metadata": {},
   "outputs": [
    {
     "name": "stdout",
     "output_type": "stream",
     "text": [
      "3\n",
      "5\n",
      "7\n",
      "9\n",
      "11\n",
      "13\n"
     ]
    }
   ],
   "source": [
    "soma = 1 \n",
    " \n",
    "while soma < 12:\n",
    "    soma += 2\n",
    "    print(soma)"
   ]
  },
  {
   "cell_type": "code",
   "execution_count": 1,
   "metadata": {},
   "outputs": [
    {
     "name": "stdout",
     "output_type": "stream",
     "text": [
      "Senha correta\n"
     ]
    }
   ],
   "source": [
    "# Exercício 2 - Crie um programa em Python que solicita ao usuário uma senha numérica de 4 dígitos. O programa deve repetir essa solicitação até que o usuário informe a senha correta (1234).\n",
    "senha =  input (\"Digite a sua senha numérica de quatro digitos:\")\n",
    "\n",
    "while (senha != \"1234\"):\n",
    "    senha = input(\"Senha incorreta, digite novamente\")\n",
    "    \n",
    "print (\"Senha correta\")"
   ]
  },
  {
   "cell_type": "code",
   "execution_count": 3,
   "metadata": {},
   "outputs": [
    {
     "name": "stdout",
     "output_type": "stream",
     "text": [
      "5\n"
     ]
    }
   ],
   "source": [
    "lista = [ 1,2,3,4,5]\n",
    "print(len(lista))"
   ]
  },
  {
   "cell_type": "code",
   "execution_count": 4,
   "metadata": {},
   "outputs": [
    {
     "name": "stdout",
     "output_type": "stream",
     "text": [
      "2\n",
      "3\n",
      "4\n",
      "5\n",
      "6\n"
     ]
    }
   ],
   "source": [
    "for elemento in lista: \n",
    "    print (elemento+1)"
   ]
  },
  {
   "cell_type": "code",
   "execution_count": 5,
   "metadata": {},
   "outputs": [
    {
     "name": "stdout",
     "output_type": "stream",
     "text": [
      "lukeeusouseupai\n"
     ]
    },
    {
     "ename": "",
     "evalue": "",
     "output_type": "error",
     "traceback": [
      "\u001b[1;31mThe Kernel crashed while executing code in the current cell or a previous cell. \n",
      "\u001b[1;31mPlease review the code in the cell(s) to identify a possible cause of the failure. \n",
      "\u001b[1;31mClick <a href='https://aka.ms/vscodeJupyterKernelCrash'>here</a> for more info. \n",
      "\u001b[1;31mView Jupyter <a href='command:jupyter.viewOutput'>log</a> for further details."
     ]
    }
   ],
   "source": [
    "palavras_vader = ['luke', 'eu', 'sou', 'seu', 'pai']\n",
    "frase = ''\n",
    "for palavra in palavras_vader:\n",
    "    frase += palavra + ''\n",
    "    \n",
    "frase = frase.strip()\n",
    "print(frase)"
   ]
  },
  {
   "cell_type": "code",
   "execution_count": null,
   "metadata": {},
   "outputs": [],
   "source": []
  },
  {
   "cell_type": "code",
   "execution_count": 12,
   "metadata": {},
   "outputs": [
    {
     "name": "stdout",
     "output_type": "stream",
     "text": [
      "45\n"
     ]
    }
   ],
   "source": [
    "#for\n",
    "#range da elementos de 0 a 9 - cria sequências numéricas para serem utilizadas em loop\n",
    "soma=0\n",
    "for i in range(10):\n",
    "    soma=soma+i\n",
    "\n",
    "print(soma)\n",
    "    "
   ]
  },
  {
   "cell_type": "code",
   "execution_count": 2,
   "metadata": {},
   "outputs": [
    {
     "name": "stdout",
     "output_type": "stream",
     "text": [
      "[8, 5, 6]\n"
     ]
    }
   ],
   "source": [
    "alunos=['joao', 'lais', 'rafael']\n",
    "nota = []\n",
    "for i in alunos:\n",
    "    nota.append(int(input('Qual a nota do aluno {}?'.format(i))))\n",
    "print(nota)"
   ]
  },
  {
   "cell_type": "code",
   "execution_count": 3,
   "metadata": {},
   "outputs": [
    {
     "name": "stdout",
     "output_type": "stream",
     "text": [
      "5\n",
      "6\n",
      "7\n",
      "8\n",
      "9\n"
     ]
    }
   ],
   "source": [
    "#compostas\n",
    "num_1=num_2=1\n",
    "while (num_1!= 0) & (num_2 != 0):\n",
    "    num_1=int(input('Informe o primeiro número: '))\n",
    "    num_2=int(input('Informe o segundo número: '))\n",
    "    for i in range(num_1,num_2):\n",
    "        print(i)"
   ]
  },
  {
   "cell_type": "code",
   "execution_count": 2,
   "metadata": {},
   "outputs": [
    {
     "name": "stdout",
     "output_type": "stream",
     "text": [
      "O número 6 é par!\n"
     ]
    }
   ],
   "source": [
    "#Exercício 01\n",
    "numero=int(input('Insira um número inteiro: '))\n",
    "if numero%2==0: print(f'O número {numero} é par!')\n",
    "else: print(f'O número {numero} é ímpar')"
   ]
  },
  {
   "cell_type": "code",
   "execution_count": 3,
   "metadata": {},
   "outputs": [
    {
     "name": "stdout",
     "output_type": "stream",
     "text": [
      "Hello World\n",
      "Hello  -  5\n",
      "World  -  5\n"
     ]
    }
   ],
   "source": [
    "#Exercício 02\n",
    "#o i trás a posição \n",
    "frase=input('Digite uma frase: ')\n",
    "palavras=frase.split(' ')\n",
    "print(frase)\n",
    "for i in palavras:\n",
    "    print(i, ' - ', len(i))"
   ]
  },
  {
   "cell_type": "code",
   "execution_count": 7,
   "metadata": {},
   "outputs": [
    {
     "name": "stdout",
     "output_type": "stream",
     "text": [
      "Senha incorreta\n",
      "Tente novamente\n",
      "Acesso liberado\n"
     ]
    }
   ],
   "source": [
    "#Exercício 03\n",
    "senha='1234'\n",
    "while True:\n",
    "    senha_informada=input('Digite uma senha de 4 digitos: ')\n",
    "    if (senha_informada!=senha): print('Senha incorreta\\nTente novamente')\n",
    "    else:\n",
    "        print('Acesso liberado')\n",
    "        break"
   ]
  },
  {
   "cell_type": "code",
   "execution_count": 10,
   "metadata": {},
   "outputs": [
    {
     "name": "stdout",
     "output_type": "stream",
     "text": [
      "1\n"
     ]
    }
   ],
   "source": [
    "#Exercício 04\n",
    "n=int(input('Digite um número inteiro: '))\n",
    "produto=1\n",
    "for i in range(1,n+1):\n",
    "    produto=produto*1\n",
    "if n==0: produto=1  \n",
    "print(produto)\n",
    "    "
   ]
  },
  {
   "cell_type": "code",
   "execution_count": 14,
   "metadata": {},
   "outputs": [
    {
     "name": "stdout",
     "output_type": "stream",
     "text": [
      "Janeiro \t 232\n",
      "Fevereiro \t 321\n",
      "Junho \t 589\n",
      "Julho \t 547\n"
     ]
    }
   ],
   "source": [
    "#Exercício 05\n",
    "dicionario={'Janeiro':232, 'Fevereiro':321, 'Junho':589, 'Julho':547}\n",
    "for k in dicionario: \n",
    "    print(k, '\\t', dicionario[k])"
   ]
  },
  {
   "cell_type": "code",
   "execution_count": null,
   "metadata": {},
   "outputs": [],
   "source": [
    "#Exercício 4 - Escreva um programa que dado um valor n calcula o fatorial de n."
   ]
  }
 ],
 "metadata": {
  "kernelspec": {
   "display_name": "Python 3",
   "language": "python",
   "name": "python3"
  },
  "language_info": {
   "codemirror_mode": {
    "name": "ipython",
    "version": 3
   },
   "file_extension": ".py",
   "mimetype": "text/x-python",
   "name": "python",
   "nbconvert_exporter": "python",
   "pygments_lexer": "ipython3",
   "version": "3.11.9"
  }
 },
 "nbformat": 4,
 "nbformat_minor": 2
}
